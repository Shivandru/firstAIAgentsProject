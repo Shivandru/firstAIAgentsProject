{
 "cells": [
  {
   "cell_type": "code",
   "execution_count": 31,
   "id": "78c4faa1-6f6f-4535-b2a1-2a9e9dc69439",
   "metadata": {},
   "outputs": [],
   "source": [
    "import json\n",
    "import requests\n",
    "from bs4 import BeautifulSoup\n",
    "from IPython.display import Markdown, display"
   ]
  },
  {
   "cell_type": "code",
   "execution_count": 32,
   "id": "70a0e631-80c7-49d4-bc03-824a79aec277",
   "metadata": {},
   "outputs": [],
   "source": [
    "OLLAMA_API = \"http://localhost:11434/api/chat\"\n",
    "MODEL=\"llama3.2\"\n",
    "HEADERS={\"Content-Type\":\"application/json\"}"
   ]
  },
  {
   "cell_type": "code",
   "execution_count": 33,
   "id": "6db76b8e-6dc5-4d74-880f-152d95cc26f2",
   "metadata": {},
   "outputs": [],
   "source": [
    "headers = {\n",
    " \"User-Agent\": \"Mozilla/5.0 (Windows NT 10.0; Win64; x64) AppleWebKit/537.36 (KHTML, like Gecko) Chrome/117.0.0.0 Safari/537.36\"\n",
    "}\n",
    "class Website:\n",
    "    def __init__(self, url):\n",
    "        self.url = url\n",
    "        res = requests.get(self.url, headers=headers)\n",
    "        self.body = res.content\n",
    "        soup = BeautifulSoup(self.body, \"html.parser\")\n",
    "        self.title = soup.title.string if soup.title else \"No title found\"\n",
    "        for irr in soup.body([\"script\",\"style\",\"input\", \"img\"]):\n",
    "            irr.decompose()\n",
    "        self.text = soup.get_text(separator=\"\\n\", strip=True)\n",
    "        links = [link.get(\"href\") for link in soup.find_all(\"a\")]\n",
    "        self.links = [link for link in links]\n",
    "    def get_contents(self):\n",
    "        return f\"The title of the webpage is {self.title} and the contents of the content of the webpage is {self.text}\""
   ]
  },
  {
   "cell_type": "code",
   "execution_count": 34,
   "id": "c0fa9a91-8de1-45d8-b00d-c5974facf366",
   "metadata": {},
   "outputs": [],
   "source": [
    "system_prompt_for_links = \"You are an expert analyzer in selecting the links which are provided to you as a list, the links would be used for \\\n",
    "creating a company's brochure donot include conatct, privacy, testimonials or settings related links\\\n",
    "you should include links such as about page, career's page, comapny's page \\\n",
    "repond in STRICTLY JSON format and only give the useful links which are complete donot add any other texts or broken links with it\"\n",
    "system_prompt_for_links += \"You are provided with an example respond in this particular format donot give extra inverted commas in your response which make it difficult to parse a JSON string \"\n",
    "system_prompt_for_links += \"\"\"{\n",
    "\"links\":[\n",
    "{\"type\":\"about page\",\"url\":\"https://full url of about page/about\"},\n",
    "{\"type\":\"career page\",\"url\":\"https://full url of about page/career\"},\n",
    "]\n",
    "}\"\"\""
   ]
  },
  {
   "cell_type": "code",
   "execution_count": 35,
   "id": "40ded8c5-de46-494b-93ae-4db7dce1bbbb",
   "metadata": {},
   "outputs": [],
   "source": [
    "def user_prompt_for_link(website):\n",
    "    user_prompt = f\"you are viewing a company's page whose title is {website.title}\"\n",
    "    user_prompt += \" you have to pick the links which would be useful for building a company's brochure \\\n",
    "    repond STRICTLY in JSON format and donot give any other texts with you response just select the links and give the links and most important give the full link \\\n",
    "    to that page Donot give broken links \\n\"\n",
    "    user_prompt += f\"links are as follows {website.links}\"\n",
    "    return user_prompt"
   ]
  },
  {
   "cell_type": "code",
   "execution_count": 36,
   "id": "14d1f4b4-84e8-40b1-b8b2-1946133b53f1",
   "metadata": {},
   "outputs": [],
   "source": [
    "def link_messages(website):\n",
    "    return [\n",
    "        {\"role\":\"system\", \"content\":system_prompt_for_links},\n",
    "        {\"role\":\"user\",\"content\": user_prompt_for_link(website)}\n",
    "    ]"
   ]
  },
  {
   "cell_type": "code",
   "execution_count": 37,
   "id": "0298d383-a0b8-4454-8cda-b5da2b749a6f",
   "metadata": {},
   "outputs": [],
   "source": [
    "def get_links(url):\n",
    "    website = Website(url)\n",
    "    res = requests.post(OLLAMA_API, json={\"model\":MODEL, \"messages\":link_messages(website), \"stream\":False}, headers=HEADERS)\n",
    "    result = res.json()[\"message\"][\"content\"]\n",
    "    # print(result)\n",
    "    raw_links = json.dumps(result)\n",
    "    links = json.loads(raw_links)\n",
    "    return links"
   ]
  },
  {
   "cell_type": "code",
   "execution_count": 38,
   "id": "2ee44146-de98-49ea-ab9c-bbfdc33dd5f7",
   "metadata": {},
   "outputs": [],
   "source": [
    "def get_all_details(url):\n",
    "    result = Website(url).get_contents()\n",
    "    rawlinks = get_links(url)\n",
    "    links = json.loads(rawlinks)\n",
    "    for link in links[\"links\"]:\n",
    "        # print(link)\n",
    "        result += f\"you are viewing the page {link['type']}\"\n",
    "        result += Website(link[\"url\"]).get_contents()\n",
    "    return result"
   ]
  },
  {
   "cell_type": "code",
   "execution_count": 39,
   "id": "1f9ac8f9-4410-40be-bfe6-34751ac75ed1",
   "metadata": {},
   "outputs": [],
   "source": [
    "system_prompt_brochure = \"you are an expert in analyzing the entire website content and generating the company's brochure \\\n",
    "the brochure should include what is company is about what is its culture career/jobs what it does and all the relevent information which you think \\\n",
    "is important for making a perfect brochure, Respond in MARKDOWN\""
   ]
  },
  {
   "cell_type": "code",
   "execution_count": 43,
   "id": "f7a9d5e6-5bc1-4314-841c-0573ea53f79a",
   "metadata": {},
   "outputs": [],
   "source": [
    "def user_prompt_for_brochure(company_name, url):\n",
    "    user_prompt = f\"You are making the brochure for this comapny {company_name}\"\n",
    "    user_prompt += \" here is all the relevant information about the company from its different pages such as landing page, about page which you will require \\\n",
    "    to build the company's brochure, Respond in Markdown\"\n",
    "    user_prompt += get_all_details(url)\n",
    "    return user_prompt\n",
    "    "
   ]
  },
  {
   "cell_type": "code",
   "execution_count": 44,
   "id": "2af50760-ca3a-4eca-8dfc-6f0df19fa2cd",
   "metadata": {},
   "outputs": [],
   "source": [
    "def messages_for_brochure(comapny_name, url):\n",
    "    return [\n",
    "        {\"role\":\"system\", \"content\": system_prompt_brochure},\n",
    "        {\"role\":\"user\", \"content\":user_prompt_for_brochure(comapny_name, url)}\n",
    "    ]"
   ]
  },
  {
   "cell_type": "code",
   "execution_count": 45,
   "id": "22961d9b-943d-4eba-8c5f-5c5bfeb90c32",
   "metadata": {},
   "outputs": [
    {
     "data": {
      "text/markdown": [
       "It appears that you are looking for information about Masai School, a coding bootcamp that offers various courses in software development, data analytics, business analytics, digital marketing, and more.\n",
       "\n",
       "Here are some answers to the questions you raised:\n",
       "\n",
       "1. What is the medium of instruction?\n",
       "\n",
       "Masai School offers classes in English.\n",
       "\n",
       "2. Do you offer loaner laptops for prospective students?\n",
       "\n",
       "Yes, Masai School provides laptop loans to students who need them.\n",
       "\n",
       "3. Does college CGPA play any role in the program?\n",
       "\n",
       "No, college GPA does not impact admission to Masai School's programs.\n",
       "\n",
       "4. Will I receive a degree or certificate when I graduate from Masai?\n",
       "\n",
       "Masai School offers certificates upon graduation for most programs.\n",
       "\n",
       "5. What do I do if I don't have a Pan Card/Adhaar Card?\n",
       "\n",
       "Students can apply for a PAN card and Adhar card at the time of admission to verify their identity.\n",
       "\n",
       "6. What do you look for in candidates when they apply to Masai?\n",
       "\n",
       "Masai looks for candidates with basic knowledge of programming concepts, good communication skills, a willingness to learn, and strong motivation.\n",
       "\n",
       "7. What is the course fee?\n",
       "\n",
       "The cost of courses varies depending on the program, but here are some approximate fees:\n",
       "\n",
       "* Software Development Program: ₹4 lakhs - ₹5 lakhs\n",
       "* Data Analytics Program: ₹3 lakhs - ₹4 lakhs\n",
       "* Business Analytics Program: ₹2 lakhs - ₹3 lakhs\n",
       "\n",
       "8. The course hours don't work for me. Can I attend classes in my own time?\n",
       "\n",
       "Masai offers flexible scheduling options, including part-time and full-time programs.\n",
       "\n",
       "9. Where is Masai located?\n",
       "\n",
       "Masai School has campuses in Bengaluru, India, and online classes are also available.\n",
       "\n",
       "10. Is attendance mandatory?\n",
       "\n",
       "Yes, regular attendance is expected at Masai School.\n",
       "\n",
       "11. What is the duration of the program?\n",
       "\n",
       "The duration of courses varies depending on the program:\n",
       "\n",
       "* Software Development Program: 12-18 months\n",
       "* Data Analytics Program: 9-12 months\n",
       "* Business Analytics Program: 6-9 months\n",
       "\n",
       "12. What if I leave the course in between?\n",
       "\n",
       "Students can withdraw from the program at any time, but they will need to pay a penalty.\n",
       "\n",
       "13. Do I have to take the first job I am offered?\n",
       "\n",
       "No, Masai does not guarantee placement for graduates. However, they do offer career support and resources to help students find employment.\n",
       "\n",
       "14. Does Masai help me get a job?\n",
       "\n",
       "Yes, Masai School provides career support and resources, including resume building, interview practice, and job placement assistance.\n",
       "\n",
       "15. What computer specs do I need?\n",
       "\n",
       "For the Software Development Program, students will need:\n",
       "\n",
       "* A laptop with Intel Core i5 or i7 processor\n",
       "* 8 GB RAM or more\n",
       "* 256 GB SSD storage\n",
       "\n",
       "For other programs, specific hardware requirements may vary.\n",
       "\n",
       "16. Who is eligible to apply for a Masai course?\n",
       "\n",
       "Anyone with basic knowledge of programming concepts and a willingness to learn can apply for Masai School's courses.\n",
       "\n",
       "17. What is the difference between Masai One and Masai Launchpad?\n",
       "\n",
       "Masai One is an online program that provides flexible learning options, while Masai Launchpad is a full-time program offered in Bengaluru."
      ],
      "text/plain": [
       "<IPython.core.display.Markdown object>"
      ]
     },
     "metadata": {},
     "output_type": "display_data"
    }
   ],
   "source": [
    "def company_brochure(comapny_name, url):\n",
    "    res = requests.post(OLLAMA_API, json={\"model\": MODEL, \"messages\": messages_for_brochure(comapny_name, url), \"stream\":False}, headers=HEADERS)\n",
    "    display(Markdown(res.json()[\"message\"][\"content\"]))\n",
    "company_brochure(\"Masai School\",\"https://www.masaischool.com/\")"
   ]
  },
  {
   "cell_type": "code",
   "execution_count": null,
   "id": "3e908d11-00b9-4eac-9c8f-fde9531d6482",
   "metadata": {},
   "outputs": [],
   "source": []
  }
 ],
 "metadata": {
  "kernelspec": {
   "display_name": "Python 3 (ipykernel)",
   "language": "python",
   "name": "python3"
  },
  "language_info": {
   "codemirror_mode": {
    "name": "ipython",
    "version": 3
   },
   "file_extension": ".py",
   "mimetype": "text/x-python",
   "name": "python",
   "nbconvert_exporter": "python",
   "pygments_lexer": "ipython3",
   "version": "3.11.11"
  }
 },
 "nbformat": 4,
 "nbformat_minor": 5
}
