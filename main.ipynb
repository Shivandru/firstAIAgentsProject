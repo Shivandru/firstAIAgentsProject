{
 "cells": [
  {
   "cell_type": "code",
   "execution_count": 22,
   "id": "57467160-94b7-4440-9d3c-319d406d96d4",
   "metadata": {},
   "outputs": [],
   "source": [
    "import requests\n",
    "from bs4 import BeautifulSoup\n",
    "from IPython.display import Markdown, display"
   ]
  },
  {
   "cell_type": "code",
   "execution_count": 23,
   "id": "3bf5a55f-b9a1-4e0d-b2ef-62c777001aa6",
   "metadata": {},
   "outputs": [],
   "source": [
    "#Constants\n",
    "OLLAMA_API = \"http://localhost:11434/api/chat\"\n",
    "HEADERS = {\"Content-Type\":\"application/json\"}\n",
    "MODEL = \"llama3.2\""
   ]
  },
  {
   "cell_type": "code",
   "execution_count": 24,
   "id": "b8920d33-5317-4caf-b47d-99aa9d59a199",
   "metadata": {},
   "outputs": [],
   "source": [
    "headers = {\n",
    " \"User-Agent\": \"Mozilla/5.0 (Windows NT 10.0; Win64; x64) AppleWebKit/537.36 (KHTML, like Gecko) Chrome/117.0.0.0 Safari/537.36\"\n",
    "}\n",
    "class Website:\n",
    "    def __init__(self, url):\n",
    "        self.url = url\n",
    "        req = requests.get(self.url, headers=headers)\n",
    "        soup = BeautifulSoup(req.content, \"html.parser\")\n",
    "        self.title = soup.title.string if soup.title else \"No title found\"\n",
    "        for irr in soup.body([\"script\",\"img\",\"input\",\"button\",\"style\"]):\n",
    "            irr.decompose()\n",
    "        self.text = soup.body.get_text(separator=\"\\n\", strip=True)"
   ]
  },
  {
   "cell_type": "code",
   "execution_count": 25,
   "id": "e4018bb0-d299-4621-9e29-87d648902a7c",
   "metadata": {},
   "outputs": [],
   "source": [
    "system_prompt = \"You are a website analyzer assistant \\\n",
    "Provide a short summary of he website, ignore navigation related texts \\\n",
    "Respond in Markdown\""
   ]
  },
  {
   "cell_type": "code",
   "execution_count": 26,
   "id": "11cb8c66-0834-4c7a-ace8-7112740d3fc7",
   "metadata": {},
   "outputs": [],
   "source": [
    "def user_prompt_for(website):\n",
    "    user_prompt = f\"You are looking at {website.title}\"\n",
    "    user_prompt += \" Provide a short summary about the contents of this website, If there are news or articles or blogs present\\\n",
    "    in the website summarize that too, the contents of the website are as follows \"\n",
    "    user_prompt += f\"\\n\\n ${website.text}\"\n",
    "    return user_prompt"
   ]
  },
  {
   "cell_type": "code",
   "execution_count": 27,
   "id": "7f64465e-fe69-4f59-85cf-d2d10d0eb532",
   "metadata": {},
   "outputs": [],
   "source": [
    "def messages(website):\n",
    "    return [\n",
    "        {\"role\":\"system\",\"content\":system_prompt},\n",
    "        {\"role\":\"user\",\"content\":user_prompt_for(website)}\n",
    "    ]"
   ]
  },
  {
   "cell_type": "code",
   "execution_count": null,
   "id": "5375624a-40bf-4e13-8134-73ba097f5cb0",
   "metadata": {},
   "outputs": [],
   "source": [
    "\n",
    "def summarizer(url):\n",
    "    website = Website(url)\n",
    "    res = requests.post(OLLAMA_API, json={\"model\":MODEL,\"messages\":messages(website),\"stream\":False}, headers=HEADERS)\n",
    "    display(Markdown(res.json()[\"message\"][\"content\"]))\n",
    "summarizer(\"https://www.masaischool.com/\")"
   ]
  },
  {
   "cell_type": "code",
   "execution_count": null,
   "id": "4b1ac85d-1597-4c79-a07f-69a06ebb4267",
   "metadata": {},
   "outputs": [],
   "source": []
  }
 ],
 "metadata": {
  "kernelspec": {
   "display_name": "Python 3 (ipykernel)",
   "language": "python",
   "name": "python3"
  },
  "language_info": {
   "codemirror_mode": {
    "name": "ipython",
    "version": 3
   },
   "file_extension": ".py",
   "mimetype": "text/x-python",
   "name": "python",
   "nbconvert_exporter": "python",
   "pygments_lexer": "ipython3",
   "version": "3.11.11"
  }
 },
 "nbformat": 4,
 "nbformat_minor": 5
}
