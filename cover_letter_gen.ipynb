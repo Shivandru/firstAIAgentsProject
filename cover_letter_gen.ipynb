{
 "cells": [
  {
   "cell_type": "code",
   "execution_count": 48,
   "id": "496484fc-cab3-4991-8e9a-271d41efaaa5",
   "metadata": {},
   "outputs": [],
   "source": [
    "import requests"
   ]
  },
  {
   "cell_type": "code",
   "execution_count": 49,
   "id": "6dfe670e-bf9b-44b2-9556-ddbc6d5a07cf",
   "metadata": {},
   "outputs": [],
   "source": [
    "OLLAMA_API = \"http://localhost:11434/api/chat\"\n",
    "MODEL=\"llama3.2\"\n",
    "HEADERS={\"Content-Type\":\"application/json\"}"
   ]
  },
  {
   "cell_type": "code",
   "execution_count": 50,
   "id": "faa1d803-a253-48f9-a6c9-d1b2a44f14a7",
   "metadata": {},
   "outputs": [],
   "source": [
    "def message_for_summariztion(text):\n",
    "    return [\n",
    "        {\"role\":\"system\",\"content\":\"You are an assitant who analyzes and summarizes user's resume\"},\n",
    "        {\"role\":\"user\", \"content\":f\"This is my resume analyze and give a nice summary for it in a paragraph\\n\\n\\n {text}\"}\n",
    "    ]"
   ]
  },
  {
   "cell_type": "code",
   "execution_count": 51,
   "id": "6b7bf1b5-7113-421b-ab89-b873e35047c3",
   "metadata": {},
   "outputs": [],
   "source": [
    "class Cv_Summarizer:\n",
    "    def __init__(self, text):\n",
    "        res = requests.post(OLLAMA_API, json={\"model\":MODEL, \"messages\":message_for_summariztion(text), \"stream\":False}, headers=HEADERS)\n",
    "        self.summary = res.json()[\"message\"][\"content\"]\n",
    "        "
   ]
  },
  {
   "cell_type": "code",
   "execution_count": 52,
   "id": "e4268de1-a6b8-4b0d-8750-2ff9b372cb59",
   "metadata": {},
   "outputs": [],
   "source": [
    "def message_for_coverletter(text):\n",
    "    return [\n",
    "        {\"role\":\"system\",\"content\":\"Yor are a cover letter generator assistant, be to the point and specific in generating cover letter\"},\n",
    "        {\"role\":\"user\", \"content\":f\"From the summary provided, generate an awsome cover letter so that I get a job \\n\\n\\n {text}\"}\n",
    "    ]"
   ]
  },
  {
   "cell_type": "code",
   "execution_count": 54,
   "id": "6fbf41b8-0456-4c97-bedd-1b108d35736d",
   "metadata": {},
   "outputs": [],
   "source": [
    "def generate_cover_letter(text):\n",
    "    res = requests.post(OLLAMA_API, json={\"model\":MODEL, \"messages\":message_for_coverletter(text), \"stream\":False}, headers=HEADERS)\n",
    "    print(res.json()[\"message\"][\"content\"])\n",
    "    "
   ]
  },
  {
   "cell_type": "code",
   "execution_count": 55,
   "id": "f8c875fc-d5e7-40de-b8ea-71fc9691e466",
   "metadata": {},
   "outputs": [
    {
     "name": "stdout",
     "output_type": "stream",
     "text": [
      "Here's an awesome cover letter that highlights your skills:\n",
      "\n",
      "**[Your Name]**\n",
      "**[Address]**\n",
      "**[Phone Number]**\n",
      "**[Email Address]**\n",
      "\n",
      "**[Date]**\n",
      "\n",
      "**[Recipient’s Name]**\n",
      "**[Title]**\n",
      "**[Company Name]**\n",
      "**[Address]**\n",
      "\n",
      "Dear [Recipient’s Name],\n",
      "\n",
      "I'm thrilled to apply for the [Job Title] position at [Company Name], where I can leverage my expertise in MERN Stack development to drive innovative solutions that delight users. With over 5 years of experience building scalable, responsive web applications, I'm confident in my ability to contribute to your team's success.\n",
      "\n",
      "As a seasoned developer with a strong foundation in JavaScript, Node.js, and MongoDB, I've led the development of dynamic SaaS platforms, integrated real-time collaboration features, and improved front-end performance through code splitting and lazy loading. My certifications from MongoDB University and Udemy have equipped me with a comprehensive understanding of full-stack applications, third-party API integration, and complex UI/UX components.\n",
      "\n",
      "My experience with Agile methodologies, version control systems (e.g., Git), and modern development tools (e.g., Webpack) has taught me the importance of attention to detail, effective collaboration, and rapid iteration. I'm a self-motivated developer who thrives in fast-paced environments, always eager to tackle new challenges and push the boundaries of what's possible.\n",
      "\n",
      "I'm particularly drawn to [Company Name] because of its commitment to [aspect of company's mission or values that resonates with you]. As someone who is passionate about creating web applications that make a meaningful impact, I believe my skills and experience would be an excellent fit for your team.\n",
      "\n",
      "Thank you for considering my application. I'd love the opportunity to discuss how my expertise can contribute to [Company Name]'s success. Please feel free to contact me at [Your Email Address] or [Your Phone Number].\n",
      "\n",
      "Sincerely,\n",
      "\n",
      "**Shivandru**\n",
      "\n",
      "This cover letter aims to:\n",
      "\n",
      "1. Introduce yourself and express enthusiasm for the position.\n",
      "2. Highlight your key skills and experiences, using specific examples from your resume.\n",
      "3. Show how your values align with the company's mission and culture.\n",
      "4. Demonstrate your passion for web development and commitment to excellence.\n",
      "\n",
      "Feel free to customize it to fit your personal style and tone!\n"
     ]
    }
   ],
   "source": [
    "try:\n",
    "    with open(\"resume.txt\", \"r\", encoding=\"utf-8\") as file:\n",
    "        cv_txt = file.read()\n",
    "        summary = Cv_Summarizer(cv_txt)\n",
    "        generate_cover_letter(summary.summary)\n",
    "except FileNotFoundError:\n",
    "    print(\"The file 'resume.txt' was not found.\")"
   ]
  },
  {
   "cell_type": "code",
   "execution_count": null,
   "id": "57554ac6-9ced-4774-9211-9ccebe885938",
   "metadata": {},
   "outputs": [],
   "source": []
  }
 ],
 "metadata": {
  "kernelspec": {
   "display_name": "Python 3 (ipykernel)",
   "language": "python",
   "name": "python3"
  },
  "language_info": {
   "codemirror_mode": {
    "name": "ipython",
    "version": 3
   },
   "file_extension": ".py",
   "mimetype": "text/x-python",
   "name": "python",
   "nbconvert_exporter": "python",
   "pygments_lexer": "ipython3",
   "version": "3.11.11"
  }
 },
 "nbformat": 4,
 "nbformat_minor": 5
}
